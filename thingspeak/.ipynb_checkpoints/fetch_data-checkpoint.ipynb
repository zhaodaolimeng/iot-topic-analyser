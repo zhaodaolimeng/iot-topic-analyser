{
 "cells": [
  {
   "cell_type": "markdown",
   "metadata": {
    "deletable": true,
    "editable": true
   },
   "source": [
    "ThingSpeak提供了REST服务接口，其中对于单个channel的查询服务为：  \n",
    "https://api.thingspeak.com/channels/9/fields/246756.json?results=60  \n",
    "对于全部List的查询服务为：  \n",
    "https://api.thingspeak.com/channels/public.json  "
   ]
  },
  {
   "cell_type": "code",
   "execution_count": null,
   "metadata": {
    "collapsed": false,
    "deletable": true,
    "editable": true
   },
   "outputs": [],
   "source": [
    "import urllib\n",
    "import datetime\n",
    "import pickle\n",
    "import json\n",
    "\n",
    "f = urllib.request.urlopen('https://api.thingspeak.com/channels/public.json')\n",
    "content = json.loads(f.read().decode('utf-8'))\n",
    "f.close()\n",
    "\n",
    "current_entry = 0\n",
    "current_page = 1\n",
    "total = int(content['pagination']['total_entries'])\n",
    "entry_per_page = int(content['pagination']['per_page'])\n",
    "channel_dict = {}\n",
    "\n",
    "# 直接使用pickle进行存储，不再使用数据库\n",
    "while current_entry < total:\n",
    "    params = urllib.parse.urlencode({'page': current_page})\n",
    "    url = 'https://api.thingspeak.com/channels/public.json?%s' % params\n",
    "    print(url)\n",
    "    f = urllib.request.urlopen(url)\n",
    "    content = json.loads(f.read().decode('utf-8'))\n",
    "    for channel in content['channels']:\n",
    "        channel_dict[channel['id']] = channel\n",
    "    f.close()\n",
    "    current_entry += entry_per_page\n",
    "    current_page += 1\n",
    "        \n",
    "pickle.dump(channel_dict, open('channels.pickle', 'wb'))"
   ]
  },
  {
   "cell_type": "code",
   "execution_count": null,
   "metadata": {
    "collapsed": false,
    "deletable": true,
    "editable": true
   },
   "outputs": [],
   "source": [
    "import urllib\n",
    "import datetime\n",
    "import pickle\n",
    "import json\n",
    "import os\n",
    "\n",
    "channel_dict = pickle.load(open('channels.pickle', 'rb'))\n",
    "epoch_time = datetime.datetime.combine(datetime.date(2017, 4, 1), datetime.time.min)\n",
    "\n",
    "feed_dict = {}\n",
    "pickle_root = 'pickles/'\n",
    "\n",
    "# 单列出来用于断点续传\n",
    "for counter, f in enumerate(os.listdir(pickle_root)):\n",
    "    abs_path = os.path.join(pickle_root, f)\n",
    "    feed_dict[int(f.split('.')[0])] = pickle.load(open(abs_path, 'rb'))\n",
    "    if counter % 100 == 0:\n",
    "        print(counter)"
   ]
  },
  {
   "cell_type": "code",
   "execution_count": null,
   "metadata": {
    "collapsed": false,
    "deletable": true,
    "editable": true,
    "scrolled": true
   },
   "outputs": [],
   "source": [
    "for num, (feedid, channel) in enumerate(channel_dict.items()):\n",
    "\n",
    "    if feedid in feed_dict:\n",
    "        continue\n",
    "    try:\n",
    "        feed_list = []\n",
    "        feed_name = []\n",
    "        start_time = epoch_time\n",
    "        end_time = epoch_time + datetime.timedelta(days=2)\n",
    "\n",
    "        params = urllib.parse.urlencode({\n",
    "            'start': start_time.strftime('%Y-%m-%dT%H:%M:%S'),\n",
    "            'end': end_time.strftime('%Y-%m-%dT%H:%M:%S'),\n",
    "            'round': 2\n",
    "        })\n",
    "\n",
    "        url = 'https://api.thingspeak.com/channels/%s/feeds.json?%s' % (channel['id'], params)\n",
    "        print('#' + str(num) + ': ' + url)\n",
    "        f = urllib.request.urlopen(url)\n",
    "        content = json.loads(f.read().decode('utf-8'))\n",
    "\n",
    "        feed_name = {k: v for k, v in content['channel'].items() if k.startswith('field')}\n",
    "        tmp_location = 'pickles/%s.pickle' % str(feedid)\n",
    "        pickle.dump((content['feeds'], feed_name), open(tmp_location,'wb'))\n",
    "        feed_dict[feedid] = (content['feeds'], feed_name)\n",
    "\n",
    "    except Exception as e:\n",
    "        print(str(e))\n",
    "    \n",
    "pickle.dump(feed_dict, open('feed.pickle','wb'))"
   ]
  }
 ],
 "metadata": {
  "anaconda-cloud": {},
  "kernelspec": {
   "display_name": "Python [Root]",
   "language": "python",
   "name": "Python [Root]"
  },
  "language_info": {
   "codemirror_mode": {
    "name": "ipython",
    "version": 3
   },
   "file_extension": ".py",
   "mimetype": "text/x-python",
   "name": "python",
   "nbconvert_exporter": "python",
   "pygments_lexer": "ipython3",
   "version": "3.5.2"
  }
 },
 "nbformat": 4,
 "nbformat_minor": 0
}
