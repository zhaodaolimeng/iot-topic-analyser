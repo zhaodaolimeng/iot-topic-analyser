{
 "cells": [
  {
   "cell_type": "code",
   "execution_count": null,
   "metadata": {
    "collapsed": true
   },
   "outputs": [],
   "source": [
    "import pywt\n",
    "\n",
    "\n",
    "ts = [2, 56, 3, 22, 3, 4, 56, 7, 8, 9,\n",
    "      44, 23, 1, 4, 6, 2, 2, 56, 3, 22,\n",
    "      3, 4, 56, 7, 8, 9, 44, 23, 1, 4, 6, 2]\n",
    "\n",
    "c = pywt.wavedec(ts, 'haar', level=5)\n",
    "\n",
    "print(c)\n",
    "print(np.linalg.norm(c[0]))\n",
    "print(np.linalg.norm(c[1]))\n",
    "print(np.linalg.norm(c[2]))\n",
    "print(np.linalg.norm(c[3]))\n",
    "print(np.linalg.norm(c[4]))\n",
    "\n",
    "fs = 10e3\n",
    "N = 1e5\n",
    "amp = 2*np.sqrt(2)\n",
    "freq = 1234.0\n",
    "noise_power = 0.001 * fs / 2\n",
    "time = np.arange(N) / fs\n",
    "x = amp * np.sin(2 * np.pi * freq * time)\n",
    "x += np.random.normal(scale=np.sqrt(noise_power), size=time.shape)\n",
    "\n",
    "f, Pxx_den = signal.welch(x, fs, nperseg=1024)\n",
    "plt.semilogy(f, Pxx_den)\n",
    "plt.ylim([0.5e-3, 1])\n",
    "plt.xlabel('frequency [Hz]')\n",
    "plt.ylabel('PSD [V**2/Hz]')\n",
    "plt.show()"
   ]
  }
 ],
 "metadata": {
  "kernelspec": {
   "display_name": "Python 3",
   "language": "python",
   "name": "python3"
  },
  "language_info": {
   "codemirror_mode": {
    "name": "ipython",
    "version": 3.0
   },
   "file_extension": ".py",
   "mimetype": "text/x-python",
   "name": "python",
   "nbconvert_exporter": "python",
   "pygments_lexer": "ipython3",
   "version": "3.5.2"
  }
 },
 "nbformat": 4,
 "nbformat_minor": 0
}